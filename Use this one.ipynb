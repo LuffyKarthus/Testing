{
 "cells": [
  {
   "cell_type": "markdown",
   "metadata": {},
   "source": [
    "# Import library"
   ]
  },
  {
   "cell_type": "code",
   "execution_count": 4,
   "metadata": {},
   "outputs": [],
   "source": [
    "from selenium import webdriver\n",
    "from bs4 import BeautifulSoup\n",
    "import pandas as pd"
   ]
  },
  {
   "cell_type": "markdown",
   "metadata": {},
   "source": [
    "# Define variables"
   ]
  },
  {
   "cell_type": "code",
   "execution_count": null,
   "metadata": {},
   "outputs": [],
   "source": [
    "url = 'https://www.oddschecker.com/au/australian-rules'"
   ]
  },
  {
   "cell_type": "markdown",
   "metadata": {},
   "source": [
    "# Webdriver"
   ]
  },
  {
   "cell_type": "code",
   "execution_count": 6,
   "metadata": {},
   "outputs": [],
   "source": [
    "driver = webdriver.Chrome('/Users/wunlung/scripts/chromedriver')\n",
    "driver.get(url)\n",
    "html = driver.page_source"
   ]
  },
  {
   "cell_type": "markdown",
   "metadata": {},
   "source": [
    "# Parsing"
   ]
  },
  {
   "cell_type": "code",
   "execution_count": 7,
   "metadata": {},
   "outputs": [],
   "source": [
    "#BeautifulSoup grab html\n",
    "soup = BeautifulSoup(html, 'lxml')"
   ]
  },
  {
   "cell_type": "markdown",
   "metadata": {},
   "source": [
    "# Initialization"
   ]
  },
  {
   "cell_type": "code",
   "execution_count": 29,
   "metadata": {},
   "outputs": [],
   "source": [
    "date_list, time_list, odds_list = [], [], []\n",
    "home_odds_list, away_odds_list = [], []\n",
    "team_list, home_team_list, away_team_list = [], [], []"
   ]
  },
  {
   "cell_type": "markdown",
   "metadata": {},
   "source": [
    "#### use _2nWFsl, as it's already grouped by date\n",
    "* _2nWfsl : grouped games in a day\n",
    "* _1svvs0 : Date\n",
    "* _1NtPy1 : Odds\n",
    "* _2tehgH : Team Names"
   ]
  },
  {
   "cell_type": "code",
   "execution_count": 50,
   "metadata": {},
   "outputs": [],
   "source": [
    "tag = {\n",
    "    \"games\" : \"_2nWFsl\",\n",
    "    \"date\"  : \"_1svvs0\",\n",
    "    \"time\"  : \"_1ob6_g\",\n",
    "    \"odds\"  : \"_1NtPy1\",\n",
    "    \"teams\" : \"_2tehgH\", \n",
    "}"
   ]
  },
  {
   "cell_type": "code",
   "execution_count": 43,
   "metadata": {},
   "outputs": [],
   "source": [
    "def parse_games(game_day, game_time_list, game_team_list, game_odds_list):\n",
    "    \"\"\"Parse all the lists into a list with each tuple storing the game information\"\"\"\n",
    "    game_list = [] # for storing all games\n",
    "    \n",
    "    def split_list(alist):\n",
    "        \"\"\"Split a list into two lists with odd/even indices\"\"\"\n",
    "        return alist[0:][::2], alist[1:][::2]\n",
    "    \n",
    "    home_team_list, away_team_list = split_list(game_team_list)\n",
    "    home_odds_list, away_odds_list = split_list(game_odds_list)\n",
    "    \n",
    "    for time, home_team, away_team, home_odds, away_odds in zip(game_time_list, home_team_list, away_team_list,\n",
    "                                                               home_odds_list, away_odds_list):\n",
    "        record = (game_day, time, home_team, away_team, home_odds, away_odds)\n",
    "        game_list.append(record)\n",
    "    return game_list"
   ]
  },
  {
   "cell_type": "code",
   "execution_count": 51,
   "metadata": {},
   "outputs": [],
   "source": [
    "all_games_list = []\n",
    "for game in soup.find_all(\"div\", class_=tag['games']):\n",
    "    # for each game, we will store it's information into the game_list\n",
    "    game_time_list, game_odds_list, game_team_list = [], [], []\n",
    "    for date in game.findAll(\"div\", class_ = tag['date']):\n",
    "        game_day = date.text\n",
    "    for time in game.findAll(\"div\", class_ = tag['time']):\n",
    "        game_time_list.append(time.text)\n",
    "    for teams in game.findAll(\"div\", class_ = tag['teams']):\n",
    "        game_team_list.append(teams.text)\n",
    "    for odds in game.findAll(\"div\", class_ = tag['odds']):\n",
    "        game_odds_list.append(odds.text)\n",
    "    game_list = parse_games(game_day, game_time_list, game_odds_list, game_team_list)\n",
    "    all_games_list.append(game_list)"
   ]
  },
  {
   "cell_type": "code",
   "execution_count": 52,
   "metadata": {},
   "outputs": [
    {
     "data": {
      "text/plain": [
       "[[('Thu 19 Mar', '19:25', '1.26', '4.25', 'Richmond', ' Carlton')],\n",
       " [('Fri 20 Mar', '19:50', '2.35', '1.66', 'Western Bulldogs', ' Collingwood')],\n",
       " [('Sat 21 Mar', '13:45', '1.48', '3.11', 'Essendon', ' Fremantle'),\n",
       "  ('Sat 21 Mar', '16:35', '1.7', '2.21', 'Adelaide', ' Sydney Swans'),\n",
       "  ('Sat 21 Mar', '19:25', '1.7', '2.36', 'Greater Western Sydney', ' Geelong'),\n",
       "  ('Sat 21 Mar', '19:25', '3.5', '1.42', 'Gold Coast', ' Port Adelaide')],\n",
       " [('Sun 22 Mar', '13:10', '2.1', '1.81', 'North Melbourne', ' St Kilda'),\n",
       "  ('Sun 22 Mar', '15:20', '2', '1.95', 'Hawthorn', ' Brisbane Lions'),\n",
       "  ('Sun 22 Mar', '17:20', '1.25', '4.25', 'West Coast', ' Melbourne')]]"
      ]
     },
     "execution_count": 52,
     "metadata": {},
     "output_type": "execute_result"
    }
   ],
   "source": [
    "all_games_list"
   ]
  },
  {
   "cell_type": "code",
   "execution_count": 55,
   "metadata": {},
   "outputs": [],
   "source": [
    "# Flatten the all_games_list\n",
    "flat_games_list = [item for sublist in all_games_list for item in sublist]"
   ]
  },
  {
   "cell_type": "code",
   "execution_count": 56,
   "metadata": {},
   "outputs": [
    {
     "data": {
      "text/plain": [
       "[('Thu 19 Mar', '19:25', '1.26', '4.25', 'Richmond', ' Carlton'),\n",
       " ('Fri 20 Mar', '19:50', '2.35', '1.66', 'Western Bulldogs', ' Collingwood'),\n",
       " ('Sat 21 Mar', '13:45', '1.48', '3.11', 'Essendon', ' Fremantle'),\n",
       " ('Sat 21 Mar', '16:35', '1.7', '2.21', 'Adelaide', ' Sydney Swans'),\n",
       " ('Sat 21 Mar', '19:25', '1.7', '2.36', 'Greater Western Sydney', ' Geelong'),\n",
       " ('Sat 21 Mar', '19:25', '3.5', '1.42', 'Gold Coast', ' Port Adelaide'),\n",
       " ('Sun 22 Mar', '13:10', '2.1', '1.81', 'North Melbourne', ' St Kilda'),\n",
       " ('Sun 22 Mar', '15:20', '2', '1.95', 'Hawthorn', ' Brisbane Lions'),\n",
       " ('Sun 22 Mar', '17:20', '1.25', '4.25', 'West Coast', ' Melbourne')]"
      ]
     },
     "execution_count": 56,
     "metadata": {},
     "output_type": "execute_result"
    }
   ],
   "source": [
    "flat_games_list"
   ]
  },
  {
   "cell_type": "code",
   "execution_count": 57,
   "metadata": {},
   "outputs": [],
   "source": [
    "df = pd.DataFrame(flat_game_list)"
   ]
  },
  {
   "cell_type": "code",
   "execution_count": 59,
   "metadata": {},
   "outputs": [],
   "source": [
    "df.columns = [\"date\", \"time\", \"home_odds\", \"away_odds\", \"home\", \"away\"]"
   ]
  },
  {
   "cell_type": "code",
   "execution_count": 60,
   "metadata": {},
   "outputs": [
    {
     "data": {
      "text/html": [
       "<div>\n",
       "<style scoped>\n",
       "    .dataframe tbody tr th:only-of-type {\n",
       "        vertical-align: middle;\n",
       "    }\n",
       "\n",
       "    .dataframe tbody tr th {\n",
       "        vertical-align: top;\n",
       "    }\n",
       "\n",
       "    .dataframe thead th {\n",
       "        text-align: right;\n",
       "    }\n",
       "</style>\n",
       "<table border=\"1\" class=\"dataframe\">\n",
       "  <thead>\n",
       "    <tr style=\"text-align: right;\">\n",
       "      <th></th>\n",
       "      <th>date</th>\n",
       "      <th>time</th>\n",
       "      <th>home_odds</th>\n",
       "      <th>away_odds</th>\n",
       "      <th>home</th>\n",
       "      <th>away</th>\n",
       "    </tr>\n",
       "  </thead>\n",
       "  <tbody>\n",
       "    <tr>\n",
       "      <th>0</th>\n",
       "      <td>Thu 19 Mar</td>\n",
       "      <td>19:25</td>\n",
       "      <td>1.26</td>\n",
       "      <td>4.25</td>\n",
       "      <td>Richmond</td>\n",
       "      <td>Carlton</td>\n",
       "    </tr>\n",
       "    <tr>\n",
       "      <th>1</th>\n",
       "      <td>Fri 20 Mar</td>\n",
       "      <td>19:50</td>\n",
       "      <td>2.35</td>\n",
       "      <td>1.66</td>\n",
       "      <td>Western Bulldogs</td>\n",
       "      <td>Collingwood</td>\n",
       "    </tr>\n",
       "    <tr>\n",
       "      <th>2</th>\n",
       "      <td>Sat 21 Mar</td>\n",
       "      <td>13:45</td>\n",
       "      <td>1.48</td>\n",
       "      <td>3.11</td>\n",
       "      <td>Essendon</td>\n",
       "      <td>Fremantle</td>\n",
       "    </tr>\n",
       "    <tr>\n",
       "      <th>3</th>\n",
       "      <td>Sat 21 Mar</td>\n",
       "      <td>16:35</td>\n",
       "      <td>1.7</td>\n",
       "      <td>2.21</td>\n",
       "      <td>Adelaide</td>\n",
       "      <td>Sydney Swans</td>\n",
       "    </tr>\n",
       "    <tr>\n",
       "      <th>4</th>\n",
       "      <td>Sat 21 Mar</td>\n",
       "      <td>19:25</td>\n",
       "      <td>1.7</td>\n",
       "      <td>2.36</td>\n",
       "      <td>Greater Western Sydney</td>\n",
       "      <td>Geelong</td>\n",
       "    </tr>\n",
       "    <tr>\n",
       "      <th>5</th>\n",
       "      <td>Sat 21 Mar</td>\n",
       "      <td>19:25</td>\n",
       "      <td>3.5</td>\n",
       "      <td>1.42</td>\n",
       "      <td>Gold Coast</td>\n",
       "      <td>Port Adelaide</td>\n",
       "    </tr>\n",
       "    <tr>\n",
       "      <th>6</th>\n",
       "      <td>Sun 22 Mar</td>\n",
       "      <td>13:10</td>\n",
       "      <td>2.1</td>\n",
       "      <td>1.81</td>\n",
       "      <td>North Melbourne</td>\n",
       "      <td>St Kilda</td>\n",
       "    </tr>\n",
       "    <tr>\n",
       "      <th>7</th>\n",
       "      <td>Sun 22 Mar</td>\n",
       "      <td>15:20</td>\n",
       "      <td>2</td>\n",
       "      <td>1.95</td>\n",
       "      <td>Hawthorn</td>\n",
       "      <td>Brisbane Lions</td>\n",
       "    </tr>\n",
       "    <tr>\n",
       "      <th>8</th>\n",
       "      <td>Sun 22 Mar</td>\n",
       "      <td>17:20</td>\n",
       "      <td>1.25</td>\n",
       "      <td>4.25</td>\n",
       "      <td>West Coast</td>\n",
       "      <td>Melbourne</td>\n",
       "    </tr>\n",
       "  </tbody>\n",
       "</table>\n",
       "</div>"
      ],
      "text/plain": [
       "         date   time home_odds away_odds                    home  \\\n",
       "0  Thu 19 Mar  19:25      1.26      4.25                Richmond   \n",
       "1  Fri 20 Mar  19:50      2.35      1.66        Western Bulldogs   \n",
       "2  Sat 21 Mar  13:45      1.48      3.11                Essendon   \n",
       "3  Sat 21 Mar  16:35       1.7      2.21                Adelaide   \n",
       "4  Sat 21 Mar  19:25       1.7      2.36  Greater Western Sydney   \n",
       "5  Sat 21 Mar  19:25       3.5      1.42              Gold Coast   \n",
       "6  Sun 22 Mar  13:10       2.1      1.81         North Melbourne   \n",
       "7  Sun 22 Mar  15:20         2      1.95                Hawthorn   \n",
       "8  Sun 22 Mar  17:20      1.25      4.25              West Coast   \n",
       "\n",
       "              away  \n",
       "0          Carlton  \n",
       "1      Collingwood  \n",
       "2        Fremantle  \n",
       "3     Sydney Swans  \n",
       "4          Geelong  \n",
       "5    Port Adelaide  \n",
       "6         St Kilda  \n",
       "7   Brisbane Lions  \n",
       "8        Melbourne  "
      ]
     },
     "execution_count": 60,
     "metadata": {},
     "output_type": "execute_result"
    }
   ],
   "source": [
    "df"
   ]
  },
  {
   "cell_type": "code",
   "execution_count": null,
   "metadata": {},
   "outputs": [],
   "source": []
  }
 ],
 "metadata": {
  "kernelspec": {
   "display_name": "Python [conda root]",
   "language": "python",
   "name": "conda-root-py"
  },
  "language_info": {
   "codemirror_mode": {
    "name": "ipython",
    "version": 3
   },
   "file_extension": ".py",
   "mimetype": "text/x-python",
   "name": "python",
   "nbconvert_exporter": "python",
   "pygments_lexer": "ipython3",
   "version": "3.6.5"
  }
 },
 "nbformat": 4,
 "nbformat_minor": 2
}
